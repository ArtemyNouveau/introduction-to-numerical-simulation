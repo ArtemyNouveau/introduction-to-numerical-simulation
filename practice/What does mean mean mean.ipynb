{
 "cells": [
  {
   "cell_type": "code",
   "execution_count": 1,
   "metadata": {
    "collapsed": true
   },
   "outputs": [],
   "source": [
    "%matplotlib inline\n",
    "import numpy as np\n",
    "import matplotlib.pyplot as plt"
   ]
  },
  {
   "cell_type": "markdown",
   "metadata": {},
   "source": [
    "# Проблема"
   ]
  },
  {
   "cell_type": "markdown",
   "metadata": {},
   "source": [
    "В статистике часто приходится считать выборочное среднее, т.е. по данной выборке значений $x_k$, $k=1..N$, нужно вычислить\n",
    "$$\\bar x=\\frac1N\\sum_{k=1}^N x_k.$$\n",
    "С точки зрения математики не имеет значения, как считать указанную сумму, так как результат сложения всегда будет один и тот же.\n",
    "Однако при вычислениях с плавающей запятой ответ будет зависеть от порядка выполнения операций, хотя бы потому, что сложения чисел с плавающей запятой не ассоциативно.\n",
    "Но будет ли зависеть точность вычислений от порядка операций?\n",
    "Давайте это проверим.\n",
    "\n",
    "Сконструируем выборку таким образом, что сумма всех элементов равна $1$, и порядок элементов меняется в широком диапазоне.\n",
    "Для этого разобьем единицу на $K$ частей, и $k$-ую часть разобьем на $7^k$ равных значений.\n",
    "Полученные элементы перемешаем."
   ]
  },
  {
   "cell_type": "code",
   "execution_count": 2,
   "metadata": {
    "collapsed": false
   },
   "outputs": [],
   "source": [
    "def exact_sum(K):\n",
    "    \"\"\"Точное значение суммы всех элементов.\"\"\"\n",
    "    return 1.\n",
    "\n",
    "def samples(K, base=7):\n",
    "    \"\"\"\"Элементы выборки\".\"\"\"\n",
    "    # создаем K частей из base^k одинаковых значений\n",
    "    parts=[np.full((base**k,), float(base)**(-k)/K) for k in range(0, K)] \n",
    "    # создаем выборку объединяя части\n",
    "    samples=np.concatenate(parts) \n",
    "    # перемешиваем элементы выборки и возвращаем\n",
    "    return np.random.permutation(samples)\n",
    "\n",
    "def direct_sum(x):\n",
    "    \"\"\"Последовательная сумма всех элементов вектора x\"\"\"\n",
    "    s=0.\n",
    "    for e in x: \n",
    "        s+=e\n",
    "    return s"
   ]
  },
  {
   "cell_type": "markdown",
   "metadata": {},
   "source": [
    "Создадим выборку из значений, отличающихся на 6 порядков, и просуммируем элементы выборки."
   ]
  },
  {
   "cell_type": "code",
   "execution_count": 3,
   "metadata": {
    "collapsed": false
   },
   "outputs": [
    {
     "name": "stdout",
     "output_type": "stream",
     "text": [
      "Число элементов: 137257\n",
      "Самое маленькое и большое значения: 1.2142656789e-06 0.142857142857\n",
      "Погрешность прямого суммирования: 1.09323661235e-12\n"
     ]
    }
   ],
   "source": [
    "K=7 # число слагаемых\n",
    "x=samples(K) # сохраняем выборку в массив\n",
    "print(\"Число элементов:\", len(x))\n",
    "print(\"Самое маленькое и большое значения:\", np.min(x), np.max(x))\n",
    "\n",
    "exact_sum_for_x=exact_sum(K) # значение суммы с близкой к машинной погрешностью\n",
    "direct_sum_for_x=direct_sum(x) # сумма всех элементов по порядку\n",
    "\n",
    "def relative_error(x0, x):\n",
    "    \"\"\"Погрешность x при точном значении x0\"\"\"\n",
    "    return np.abs(x0-x)/np.abs(x)\n",
    "\n",
    "print(\"Погрешность прямого суммирования:\", relative_error(exact_sum_for_x, direct_sum_for_x))"
   ]
  },
  {
   "cell_type": "markdown",
   "metadata": {},
   "source": [
    "Попробуем теперь просуммировать элементы в порядке возрастания."
   ]
  },
  {
   "cell_type": "code",
   "execution_count": 4,
   "metadata": {
    "collapsed": false
   },
   "outputs": [
    {
     "name": "stdout",
     "output_type": "stream",
     "text": [
      "Погрешность суммирования по возрастанию: 3.09974268475e-13\n"
     ]
    }
   ],
   "source": [
    "sorted_x=x[np.argsort(x)]\n",
    "sorted_sum_for_x=direct_sum(sorted_x)\n",
    "print(\"Погрешность суммирования по возрастанию:\", relative_error(exact_sum_for_x, sorted_sum_for_x))"
   ]
  },
  {
   "cell_type": "markdown",
   "metadata": {},
   "source": [
    "Попробуем просуммировать в порядке убывания."
   ]
  },
  {
   "cell_type": "code",
   "execution_count": 5,
   "metadata": {
    "collapsed": false
   },
   "outputs": [
    {
     "name": "stdout",
     "output_type": "stream",
     "text": [
      "Погрешность суммирования по убыванию: 1.6949774917e-12\n"
     ]
    }
   ],
   "source": [
    "sorted_x=x[np.argsort(x)[::-1]]\n",
    "sorted_sum_for_x=direct_sum(sorted_x)\n",
    "print(\"Погрешность суммирования по убыванию:\", relative_error(exact_sum_for_x, sorted_sum_for_x))"
   ]
  },
  {
   "cell_type": "markdown",
   "metadata": {},
   "source": [
    "Таким образом погрешность результата зависит от порядка суммирования. \n",
    "Как можно объяснить этот эффект?\n",
    "\n",
    "На практике суммирование предпочтительно проводить не наивным способом, а компенсационным суммированием (см. [алгоритм Кэхэна](https://ru.wikipedia.org/wiki/%D0%90%D0%BB%D0%B3%D0%BE%D1%80%D0%B8%D1%82%D0%BC_%D0%9A%D1%8D%D1%85%D1%8D%D0%BD%D0%B0)."
   ]
  },
  {
   "cell_type": "code",
   "execution_count": 6,
   "metadata": {
    "collapsed": false
   },
   "outputs": [
    {
     "name": "stdout",
     "output_type": "stream",
     "text": [
      "Погрешность суммирования по Кэхэну: 0.0\n"
     ]
    }
   ],
   "source": [
    "def Kahan_sum(x):\n",
    "    s=0.0 # частичная сумма\n",
    "    c=0.0 # сумма погрешностей\n",
    "    for i in x:\n",
    "        y=i-c      # первоначально y равно следующему элементу последовательности\n",
    "        t=s+y      # сумма s может быть велика, поэтому младшие биты y будут потеряны\n",
    "        c=(t-s)-y  # (t-s) отбрасывает старшие биты, вычитание y восстанавливает младшие биты\n",
    "        s=t        # новое значение старших битов суммы\n",
    "    return s\n",
    "\n",
    "Kahan_sum_for_x=Kahan_sum(x) # сумма всех элементов по порядку\n",
    "print(\"Погрешность суммирования по Кэхэну:\", relative_error(exact_sum_for_x, Kahan_sum_for_x))"
   ]
  },
  {
   "cell_type": "markdown",
   "metadata": {},
   "source": [
    "Что позволяет алгоритму Кэхэна получать результат с высокой точностью?"
   ]
  },
  {
   "cell_type": "markdown",
   "metadata": {},
   "source": [
    "# Задания\n",
    "\n",
    "1. Объясните различие в погрешностях при различных порядках суммирования.\n",
    "3. Почему алгорит Кэхэна имеет значительно лучшую точность, чем последовательное суммирование?\n",
    "3. Получим ли мы те же значения погрешностей, если будем суммировать последовательность со слагаемыми разных знаков? Проверьте на следующей последовательности: \n",
    "$$x_k=\\sin k.$$\n",
    "4. Что произойдет с погрешностью, если элементы выборки с разными знаками упорядочить по возрастанию? По возврастанию абсолютной величины? Проверьте экспериментально."
   ]
  },
  {
   "cell_type": "markdown",
   "metadata": {},
   "source": [
    "# Подсказка"
   ]
  },
  {
   "cell_type": "markdown",
   "metadata": {},
   "source": [
    "Сумма первых $N$ элементов последовательности из задания 4 может быть найдена явна:\n",
    "$$\\sum_{k=1}^N\\sin k=\\frac12\\bigg(\\sin n+\\mathrm{ctg}\\frac12\\cos n+\\mathrm{ctg}\\frac12\\bigg).$$"
   ]
  }
 ],
 "metadata": {
  "kernelspec": {
   "display_name": "Python [default]",
   "language": "python",
   "name": "python3"
  },
  "language_info": {
   "codemirror_mode": {
    "name": "ipython",
    "version": 3
   },
   "file_extension": ".py",
   "mimetype": "text/x-python",
   "name": "python",
   "nbconvert_exporter": "python",
   "pygments_lexer": "ipython3",
   "version": "3.5.2"
  }
 },
 "nbformat": 4,
 "nbformat_minor": 2
}
